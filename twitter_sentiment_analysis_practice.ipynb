{
 "cells": [
  {
   "cell_type": "code",
   "execution_count": null,
   "metadata": {
    "collapsed": true
   },
   "outputs": [],
   "source": [
    "import re\n",
    "import tweepy\n",
    "from tweepy import OAuthHandler\n",
    "from textblob import TextBlob\n",
    " "
   ]
  },
  {
   "cell_type": "code",
   "execution_count": 105,
   "metadata": {},
   "outputs": [],
   "source": [
    "class TwitterClient(object):\n",
    "    '''\n",
    "    Generic Twitter Class for sentiment analysis.\n",
    "    '''\n",
    "    def __init__(self):\n",
    "        '''\n",
    "        Class constructor or initialization method.\n",
    "        '''\n",
    "        # keys and tokens from the Twitter Dev Console\n",
    "        consumer_key = 'yksQKJNRyIsXma6LuBRrmUuxI'\n",
    "        consumer_secret = 'HLxCzOaxdF86Y29XKjVrQN1YiajdrRmwVMMA31mdPDIf0q5fLi'\n",
    "        access_token = '435243395-SwKdDQI5lDnxOg1mDV6k6i2FNzwlRExk4YFuYZwN'\n",
    "        access_token_secret = 'cQ21KMKW8qykkOUYgj15mXF5gIO3HXbsxztxG0AKknU6d'\n",
    " \n",
    "        # attempt authentication\n",
    "        try:\n",
    "            # create OAuthHandler object\n",
    "            self.auth = OAuthHandler(consumer_key, consumer_secret)\n",
    "            # set access token and secret\n",
    "            self.auth.set_access_token(access_token, access_token_secret)\n",
    "            # create tweepy API object to fetch tweets\n",
    "            self.api = tweepy.API(self.auth)\n",
    "        except:\n",
    "            print(\"Error: Authentication Failed\")\n",
    " \n",
    "    def clean_tweet(self, tweet):\n",
    "        '''\n",
    "        Utility function to clean tweet text by removing links, special characters\n",
    "        using simple regex statements.\n",
    "        '''\n",
    "        return ' '.join(re.sub(\"(@[A-Za-z0-9]+)|([^0-9A-Za-z \\t])|(\\w+:\\/\\/\\S+)\", \" \", tweet).split())\n",
    " \n",
    "    def get_tweet_sentiment(self, tweet):\n",
    "        '''\n",
    "        Utility function to classify sentiment of passed tweet\n",
    "        using textblob's sentiment method\n",
    "        '''\n",
    "        # create TextBlob object of passed tweet text\n",
    "        analysis = TextBlob(self.clean_tweet(tweet))\n",
    "        # set sentiment\n",
    "        if analysis.sentiment.polarity > 0:\n",
    "            return 'positive'\n",
    "        elif analysis.sentiment.polarity == 0:\n",
    "            return 'neutral'\n",
    "        else:\n",
    "            return 'negative'\n",
    " \n",
    "    def get_tweets(self, query, count = 200):\n",
    "        '''\n",
    "        Main function to fetch tweets and parse them.\n",
    "        '''\n",
    "        # empty list to store parsed tweets\n",
    "        tweets = []\n",
    "        a = ['litecoin', 'ltc']\n",
    " \n",
    "        try:\n",
    "            # call twitter api to fetch tweets\n",
    "            fetched_tweets = self.api.search(q = query, count = count)\n",
    " \n",
    "            # parsing tweets one by one\n",
    "            for tweet in fetched_tweets:\n",
    "                if any(keyword in tweet.text for keyword in a):\n",
    "                    continue\n",
    "                # empty dictionary to store required params of a tweet\n",
    "                parsed_tweet = {}\n",
    " \n",
    "                # saving text of tweet\n",
    "                parsed_tweet['text'] = tweet.text\n",
    "                # saving sentiment of tweet\n",
    "                parsed_tweet['sentiment'] = self.get_tweet_sentiment(tweet.text)\n",
    " \n",
    "                # appending parsed tweet to tweets list\n",
    "                if tweet.retweet_count > 0:\n",
    "                    # if tweet has retweets, ensure that it is appended only once\n",
    "                    if parsed_tweet not in tweets:\n",
    "                        tweets.append(parsed_tweet)\n",
    "                else:\n",
    "                    tweets.append(parsed_tweet)\n",
    " \n",
    "            # return parsed tweets\n",
    "            return tweets\n",
    " \n",
    "        except tweepy.TweepError as e:\n",
    "            # print error (if any)\n",
    "            print(\"Error : \" + str(e))\n",
    " "
   ]
  },
  {
   "cell_type": "code",
   "execution_count": 106,
   "metadata": {
    "scrolled": true
   },
   "outputs": [
    {
     "name": "stdout",
     "output_type": "stream",
     "text": [
      "Positive tweets percentage: 29.508196721311474 %\n",
      "Negative tweets percentage: 9.836065573770492 %\n",
      "Neutral tweets percentage: 60.65573770491803 %\n",
      "\n",
      "\n",
      "Positive tweets:\n",
      "RT @Cryptopiapumpss: HUGE AIRDROP! (Est. 5 sec)\n",
      "1000 $INSR\n",
      "https://t.co/LuJ1dMlsjN\n",
      "RT,LIKE\n",
      "#Airdrop #cryptocurrency #bitcoin $ETH $TRX $XRP…\n",
      "#LTC 24hr Summary:\n",
      "Last: $131.40\n",
      "High: $144.61\n",
      "Low: $130.64\n",
      "Change: -9.13% | $-13.20\n",
      "Volume: $43,874,189.31\n",
      "$LTC… https://t.co/Vf3xTI9jtS\n",
      "RT @SocialWalletInc: Only two more days to get the 10 percent bonus when purchasing $WIRE tokens.  Go to https://t.co/tD5JYEjHBE to make yo…\n",
      "Just ordered my shift card so i can #PayWithLitecoin it might not be a direct LTC to LTC wallet xfer buts its a solid step.\n",
      "Looking for honest and profitable trading calls, recommendations and advice, join:\n",
      "\n",
      "https://t.co/CVA2UTeESL\n",
      "\n",
      "$BTC… https://t.co/pJ7cm2RWAs\n",
      "RT @ClothingWhale: 3 more sales purchased with $LTC via #CoinbaseCommerce!\n",
      "\n",
      "The best part about these donations to @LTCFoundation is not th…\n",
      "RT @coinhub_live: Litecoin Price Prediction: Litecoin Is an “Elite” Coin Ahead of Ripple - https://t.co/vwe2hjoWJY #cryptocurrency #blockch…\n",
      "New post (Litecoin (LTC) and other Cryptocurrencies Fall to Key Levels Amid Twitter and South Korea News) has been… https://t.co/guggetZKda\n",
      "RT @MAVRO_COIN: The Pre-sale is well underway! We already have seen interest building steadily! Are you in? #Mavro #cryptocurrency #blockch…\n",
      "RT @MAVRO_COIN: The future of the MLM industry will continue to be changed with the introduction of the Mavro platfrom! Learn more at https…\n",
      "\n",
      "\n",
      "Negative tweets:\n",
      "RT @CryptoVanessa: stop ur weak hands 🙏🏻 #Pattern \n",
      "till then read 👏🏽 👇🏽 \n",
      "https://t.co/U4RiKccdPw\n",
      "________\n",
      "#womenincrypto #womenintech\n",
      " #cry…\n",
      "LTC goes to .$01 I’ll still be buying... #upyoursbankers #hitmewithyourbestshot - I just feel terrible for those th… https://t.co/r41SEkfNEa\n",
      "#odinreport #airdrop second (and final) round ends this Sunday night. Next report released this Monday. Register he… https://t.co/qj9RqqpoPF\n",
      "Litecoin $LTC is valued at: $133.32 \n",
      "\n",
      "Binance registration is now OPEN for limited time! 🚀 💰  \n",
      "\n",
      "➡️… https://t.co/v57GJs3xxr\n",
      "Number of residents in recreation therapy at Mt. Cartier Court double the provincial average #LTC #bchealth… https://t.co/4dAMx3BojH\n",
      "RT @THUGCOIN: Our official @THUGCOIN Twitter #Airdrop ROUND 6 is LIVE! \n",
      "\n",
      "Receive 1K #THUG for completing the tasks! \n",
      "\n",
      "https://t.co/dShlXNA8…\n"
     ]
    }
   ],
   "source": [
    "def main():\n",
    "    # creating object of TwitterClient Class\n",
    "    api = TwitterClient()\n",
    "    # calling function to get tweets\n",
    "    tweets = api.get_tweets(query = 'LTC', count = 1000)\n",
    " \n",
    "    # picking positive tweets from tweets\n",
    "    ptweets = [tweet for tweet in tweets if tweet['sentiment'] == 'positive']\n",
    "    # percentage of positive tweets\n",
    "    print(\"Positive tweets percentage: {} %\".format(100*len(ptweets)/len(tweets)))\n",
    "    # picking negative tweets from tweets\n",
    "    ntweets = [tweet for tweet in tweets if tweet['sentiment'] == 'negative']\n",
    "    # percentage of negative tweets\n",
    "    print(\"Negative tweets percentage: {} %\".format(100*len(ntweets)/len(tweets)))\n",
    "    # percentage of neutral tweets\n",
    "    print(\"Neutral tweets percentage: {} %\".format(100*(len(tweets) - len(ntweets) - len(ptweets))/len(tweets)))\n",
    " \n",
    "    # printing first 5 positive tweets\n",
    "    print(\"\\n\\nPositive tweets:\")\n",
    "    for tweet in ptweets[:10]:\n",
    "        print(tweet['text'])\n",
    " \n",
    "    # printing first 5 negative tweets\n",
    "    print(\"\\n\\nNegative tweets:\")\n",
    "    for tweet in ntweets[:10]:\n",
    "        print(tweet['text'])\n",
    "    \n",
    "    pos = 100*len(ptweets)/len(tweets)\n",
    "    neg = 100*len(ntweets)/len(tweets)\n",
    "    \n",
    "    return pos, neg\n",
    "    \n",
    " \n",
    "if __name__ == \"__main__\":\n",
    "    # calling main function\n",
    "    main()"
   ]
  },
  {
   "cell_type": "code",
   "execution_count": 111,
   "metadata": {
    "scrolled": true
   },
   "outputs": [
    {
     "name": "stdout",
     "output_type": "stream",
     "text": [
      "Positive tweets percentage: 32.394366197183096 %\n",
      "Negative tweets percentage: 16.901408450704224 %\n",
      "Neutral tweets percentage: 50.70422535211268 %\n",
      "\n",
      "\n",
      "Positive tweets:\n",
      "RT @ColMorrisDavis: I have rarely agreed with LTC Ralph Peters on NATSEC policy, but have to give him credit for standing up and saying @Fo…\n",
      "Crypto update: Bitcoin (BTC), Ethereum (ETH), and Litecoin (LTC ... - Motley Fool Australia https://t.co/fGeKV9uVDS… https://t.co/fgpeOBD4Wt\n",
      "RT @SatoshiLite: Yes, it's been a rough week for cryptocurrency, but look on the bright side. BTC and ETH is just back to the levels 4.5 mo…\n",
      "@LeeshaRx8 My ❤️belongs to #LTC I own a little BTC &amp; ETH. I started to dabble in OMG - it’s interesting.  But I am… https://t.co/FANeTu9UQN\n",
      "RT @BitcoinHomework: #AIRDROP #5 is now LIVE!!!\n",
      "\n",
      "https://t.co/iC1SN69VXC\n",
      "\n",
      "#ExtraCredit #BitcoinHomework #ICO #PRESALE $XTRA #XTRA #Blockcha…\n",
      "this channel called $DGB before it made 6x. they only share high reward, low risk signals. join:… https://t.co/fQKnRxumkE\n",
      "RT @BitcoinUKs: INCREASE YOUR #LITECOIN WITH THE iCenter Lite Bot https://t.co/Dc9tF88Kmh\n",
      " \n",
      "Minimum of 0.1LTC to start!\n",
      " \n",
      "#LTC #FREE #MONEY…\n",
      "@zzzgodszzz I think it just started turning.LTC ready to move up\n",
      "RT @Smarter_Crypto: Here is the latest portfolio of #SMARTERTHANCRYPTO (STC) #ICO with 20% BNB, 16.78% TRX and 63.22% Tether. The market tr…\n",
      "RT @Johnny_Crypt0: 4 DAYS LEFT !!! 200,000 HTML COIN GIVEAWAY !!! Easy to join and FREE.\n",
      "follow @johnny_crypt0 and @RADION_Project on Twitt…\n",
      "\n",
      "\n",
      "Negative tweets:\n",
      "RT @ebitToken: #Giveaway $100 in $ETH!\n",
      "\n",
      "-Like\n",
      "-Retweet\n",
      "-Follow\n",
      "-Comment down below with your #Ethereum (preferably) ERC20 address.\n",
      "\n",
      "Like an…\n",
      "RT @_KittyMoon: Having a REALLY rough day today. Ill be home and online sometime later.\n",
      "Make my day better?\n",
      "\n",
      "Buy a vid? https://t.co/TSE9Ts…\n",
      "Register with BitMEX for up to 100x Leverage!\n",
      "\n",
      "BitMEX allows you to go long/short on your trades! 🙌💎\n",
      "\n",
      "➡️… https://t.co/ewhdiuruTK\n",
      "RT @RamenCoin2018: The OFFICIAL @RamenCoin2018 Twitter #Airdrop ROUND 1 is LIVE!\n",
      "\n",
      "Receive 1000 $RAMEN for completing the tasks: https://t.c…\n",
      "RT @rvrheee: IdealCash $deal 10K Daily Lottery Game In Our Telegram !\n",
      "Every day 2 winner's will be selected at random to win 10K DEAL coins…\n",
      "RT @ElixiumCrypto: Feeling Hungry🍔 Asf For Some Sick #Bitcoin Gains? We Got Your Back!\n",
      "\n",
      "1 - 100x Leverage ✅\n",
      "\n",
      "▶️ https://t.co/gNzwvQHELe ◀️…\n",
      "RT @ElixiumCrypto: Register now &amp; go Long📈 on #Monero!\n",
      "\n",
      "▶️ https://t.co/ANWPT9sQ1D ◀️\n",
      "\n",
      "#Bitcoin #Crypto #Ethereum #ETH #Cardano #Dash #Zcas…\n",
      "If you had to go all in on a coin other than $BTC, #ETH, or $LTC, what would it be?\n",
      "@wef I hope this crash kills the s***coins that have no utility or purpose other than to be a spec asset. BTC is ex… https://t.co/VRYmwwMtAu\n",
      "@sewatch Hosting doesn't have to be a bad experience.  Check out @mightweb. They do everything better than your cur… https://t.co/cqd5hVj9SC\n"
     ]
    }
   ],
   "source": [
    "counts = main()"
   ]
  },
  {
   "cell_type": "code",
   "execution_count": 110,
   "metadata": {},
   "outputs": [
    {
     "data": {
      "text/plain": [
       "(31.506849315068493, 10.95890410958904)"
      ]
     },
     "execution_count": 110,
     "metadata": {},
     "output_type": "execute_result"
    }
   ],
   "source": [
    "counts"
   ]
  },
  {
   "cell_type": "code",
   "execution_count": null,
   "metadata": {
    "collapsed": true
   },
   "outputs": [],
   "source": []
  },
  {
   "cell_type": "code",
   "execution_count": null,
   "metadata": {
    "collapsed": true
   },
   "outputs": [],
   "source": []
  },
  {
   "cell_type": "code",
   "execution_count": null,
   "metadata": {
    "collapsed": true
   },
   "outputs": [],
   "source": []
  },
  {
   "cell_type": "code",
   "execution_count": null,
   "metadata": {
    "collapsed": true
   },
   "outputs": [],
   "source": []
  }
 ],
 "metadata": {
  "kernelspec": {
   "display_name": "Python 3",
   "language": "python",
   "name": "python3"
  },
  "language_info": {
   "codemirror_mode": {
    "name": "ipython",
    "version": 3
   },
   "file_extension": ".py",
   "mimetype": "text/x-python",
   "name": "python",
   "nbconvert_exporter": "python",
   "pygments_lexer": "ipython3",
   "version": "3.6.3"
  },
  "varInspector": {
   "cols": {
    "lenName": 16,
    "lenType": 16,
    "lenVar": 40
   },
   "kernels_config": {
    "python": {
     "delete_cmd_postfix": "",
     "delete_cmd_prefix": "del ",
     "library": "var_list.py",
     "varRefreshCmd": "print(var_dic_list())"
    },
    "r": {
     "delete_cmd_postfix": ") ",
     "delete_cmd_prefix": "rm(",
     "library": "var_list.r",
     "varRefreshCmd": "cat(var_dic_list()) "
    }
   },
   "types_to_exclude": [
    "module",
    "function",
    "builtin_function_or_method",
    "instance",
    "_Feature"
   ],
   "window_display": false
  }
 },
 "nbformat": 4,
 "nbformat_minor": 2
}
